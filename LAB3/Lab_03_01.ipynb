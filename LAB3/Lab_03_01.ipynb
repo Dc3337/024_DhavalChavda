{
  "nbformat": 4,
  "nbformat_minor": 0,
  "metadata": {
    "colab": {
      "name": "Lab_03_01.ipynb",
      "provenance": [],
      "collapsed_sections": []
    },
    "kernelspec": {
      "name": "python3",
      "display_name": "Python 3"
    },
    "language_info": {
      "name": "python"
    }
  },
  "cells": [
    {
      "cell_type": "code",
      "metadata": {
        "colab": {
          "base_uri": "https://localhost:8080/"
        },
        "id": "C0_Noz2PUrgQ",
        "outputId": "681066f6-8890-431b-a619-3c86367f0a0a"
      },
      "source": [
        "from google.colab import drive\n",
        "drive.mount(\"/content/drive\")\n",
        "\n",
        "import numpy as np\n",
        "import pandas as pd\n",
        "import matplotlib.pyplot as plt\n",
        "from sklearn import datasets, preprocessing\n",
        "from sklearn.naive_bayes import GaussianNB, MultinomialNB"
      ],
      "execution_count": 3,
      "outputs": [
        {
          "output_type": "stream",
          "name": "stdout",
          "text": [
            "Drive already mounted at /content/drive; to attempt to forcibly remount, call drive.mount(\"/content/drive\", force_remount=True).\n"
          ]
        }
      ]
    },
    {
      "cell_type": "code",
      "metadata": {
        "id": "1D6GhCKMt59n"
      },
      "source": [
        ""
      ],
      "execution_count": null,
      "outputs": []
    },
    {
      "cell_type": "code",
      "metadata": {
        "id": "kSeZ1OxKVGgk"
      },
      "source": [
        "dataset = pd.read_csv(\"/content/drive/MyDrive/ML/L3/PracticeDataSets/Dataset1.csv\")"
      ],
      "execution_count": 4,
      "outputs": []
    },
    {
      "cell_type": "code",
      "metadata": {
        "colab": {
          "base_uri": "https://localhost:8080/"
        },
        "id": "HY_foL8ZV9BH",
        "outputId": "f3da425f-3778-4bea-96ee-83ddb2c52b86"
      },
      "source": [
        "# labelEncoder Object\n",
        "label_encoder = preprocessing.LabelEncoder()\n",
        "Y_rows=None\n",
        "for data_heading in dataset:\n",
        "  if data_heading!=\"Play\":\n",
        "    print(f\"\\n\\nHeading :- {data_heading}\")\n",
        "    #print(list(dataset[data_heading]))\n",
        "    dummy = pd.get_dummies(dataset[data_heading])\n",
        "    #print(\"\\n\\nDummy :\\n\",dummy)\n",
        "    dataset = dataset.drop([data_heading],axis=1)\n",
        "    dataset = pd.concat([dataset,dummy],axis=1)\n",
        "    #print(\"\\n\\nFinal Data :\\n\",dataset)\n",
        "  else:\n",
        "    Y_rows = label_encoder.fit_transform(dataset[data_heading])\n",
        "    dataset = dataset.drop([data_heading],axis=1)"
      ],
      "execution_count": 5,
      "outputs": [
        {
          "output_type": "stream",
          "name": "stdout",
          "text": [
            "\n",
            "\n",
            "Heading :- Outlook\n",
            "\n",
            "\n",
            "Heading :- Temp\n",
            "\n",
            "\n",
            "Heading :- Humidity\n",
            "\n",
            "\n",
            "Heading :- Wind\n"
          ]
        }
      ]
    },
    {
      "cell_type": "code",
      "metadata": {
        "colab": {
          "base_uri": "https://localhost:8080/"
        },
        "id": "g1TyyNFFYKxi",
        "outputId": "c64ec019-829d-474f-9f33-ebc698b029d7"
      },
      "source": [
        "print(dataset,Y_rows)"
      ],
      "execution_count": null,
      "outputs": [
        {
          "output_type": "stream",
          "text": [
            "    O  R  S  C  H  M  High  Low  Normal  F  T\n",
            "0   0  1  0  0  1  0     0    0       1  1  0\n",
            "1   0  1  0  0  1  0     1    0       0  0  1\n",
            "2   1  0  0  0  1  0     0    0       1  1  0\n",
            "3   0  0  1  0  0  1     0    0       1  1  0\n",
            "4   0  0  1  1  0  0     0    0       1  1  0\n",
            "5   0  0  1  1  0  0     0    1       0  0  1\n",
            "6   1  0  0  1  0  0     0    0       1  0  1\n",
            "7   0  1  0  0  0  1     0    0       1  1  0\n",
            "8   0  1  0  1  0  0     0    1       0  1  0\n",
            "9   0  0  1  0  0  1     1    0       0  1  0\n",
            "10  0  1  0  0  0  1     1    0       0  0  1\n",
            "11  1  0  0  0  0  1     0    1       0  0  1\n",
            "12  1  0  0  0  1  0     0    0       1  1  0\n",
            "13  0  0  1  0  0  1     0    0       1  0  1 [0 0 1 1 1 0 1 0 1 1 1 1 1 0]\n"
          ],
          "name": "stdout"
        }
      ]
    },
    {
      "cell_type": "code",
      "metadata": {
        "id": "PWNrhz44XZxF"
      },
      "source": [
        "from sklearn.model_selection import train_test_split\n",
        "\n",
        "X_train, X_test, Y_train, Y_test = train_test_split(dataset, Y_rows, test_size = 0.30, random_state = 24)"
      ],
      "execution_count": 11,
      "outputs": []
    },
    {
      "cell_type": "code",
      "metadata": {
        "colab": {
          "base_uri": "https://localhost:8080/"
        },
        "id": "PWXmsSDpc4qr",
        "outputId": "3aaa38db-ac4d-4b18-99ce-0aaf875bd31a"
      },
      "source": [
        "# create model\n",
        "model = MultinomialNB()\n",
        "model.fit(X_train, Y_train)\n",
        "\n",
        "# Predict Y from X_text\n",
        "Y_predicted = model.predict(X_test)\n",
        "print(X_test)\n",
        "print(Y_predicted)"
      ],
      "execution_count": 12,
      "outputs": [
        {
          "output_type": "stream",
          "name": "stdout",
          "text": [
            "    O  R  S  C  H  M  High  Low  Normal  F  T\n",
            "11  1  0  0  0  0  1     0    1       0  0  1\n",
            "10  0  1  0  0  0  1     1    0       0  0  1\n",
            "13  0  0  1  0  0  1     0    0       1  0  1\n",
            "5   0  0  1  1  0  0     0    1       0  0  1\n",
            "6   1  0  0  1  0  0     0    0       1  0  1\n",
            "[1 0 1 1 1]\n"
          ]
        }
      ]
    },
    {
      "cell_type": "code",
      "metadata": {
        "colab": {
          "base_uri": "https://localhost:8080/"
        },
        "id": "ABRk0kUZc9zH",
        "outputId": "92e239ad-ca1b-43d7-f1ee-7efbec103571"
      },
      "source": [
        "from sklearn import metrics\n",
        "\n",
        "print(f\"Accuracy is :- {metrics.accuracy_score(Y_test, Y_predicted)}\")\n",
        "\n",
        "# print precision and recall\n",
        "from sklearn.metrics import precision_score\n",
        "from sklearn.metrics import recall_score\n",
        "\n",
        "\n",
        "precision = precision_score(Y_test, Y_predicted)\n",
        "recall = recall_score(Y_test, Y_predicted)\n",
        "\n",
        "\n",
        "print(f\"precision :- {precision}\")\n",
        "print(f\"recall :- {recall}\")"
      ],
      "execution_count": 13,
      "outputs": [
        {
          "output_type": "stream",
          "name": "stdout",
          "text": [
            "Accuracy is :- 0.4\n",
            "precision :- 0.5\n",
            "recall :- 0.6666666666666666\n"
          ]
        }
      ]
    },
    {
      "cell_type": "code",
      "metadata": {
        "colab": {
          "base_uri": "https://localhost:8080/"
        },
        "id": "YC_S7e3KdAdE",
        "outputId": "acd8ae80-a179-4cb4-cd78-5a126c0d8401"
      },
      "source": [
        "# Excersice\n",
        "# Task1\n",
        "\n",
        "# Temp = \"Hot\" and Weather = \"overcast\"\n",
        "#              1  1  0\n",
        "#Outlook(O,R,S)=0  1  0,\tTemp(C,H,M)=0  1  0,\tHumidity(High,Low,Normal)=0  0 1,\tWind(F,T)=1,0,\tPlay=0\n",
        "output = model.predict([[0,1,0, 0,1,0  ,0,0,1 ,1,0]])\n",
        "print(f\"final prediction :- {output}\")\n",
        "\n",
        "#Overcast , High, Normal, False\n",
        "output = model.predict([[1,0,0  ,0,1,0    ,0,0,1  ,1,0]])\n",
        "print(f\"final prediction :- {output}\")\n",
        "\n",
        "# Excersice\n",
        "# Task1\n",
        "\n",
        "# Overcast, Mild, Normal, True\n",
        "\n",
        "output = model.predict([[1,0,0, 0,0,1 ,0,0,1  ,0,1]])\n",
        "print(f\"final prediction :- {output}\")"
      ],
      "execution_count": 14,
      "outputs": [
        {
          "output_type": "stream",
          "name": "stdout",
          "text": [
            "final prediction :- [0]\n",
            "final prediction :- [1]\n",
            "final prediction :- [1]\n"
          ]
        }
      ]
    },
    {
      "cell_type": "code",
      "metadata": {
        "id": "vEzK5DSPdHmI"
      },
      "source": [
        ""
      ],
      "execution_count": null,
      "outputs": []
    }
  ]
}