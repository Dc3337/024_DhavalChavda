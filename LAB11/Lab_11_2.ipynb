{
  "nbformat": 4,
  "nbformat_minor": 0,
  "metadata": {
    "colab": {
      "name": "Lab_11_2.ipynb",
      "provenance": []
    },
    "kernelspec": {
      "name": "python3",
      "display_name": "Python 3"
    },
    "language_info": {
      "name": "python"
    }
  },
  "cells": [
    {
      "cell_type": "code",
      "metadata": {
        "id": "0F1D8vwtgmoc"
      },
      "source": [
        "# importing libraries\n",
        "\n",
        "import matplotlib.pyplot as plt\n",
        "import numpy as np\n",
        "import pandas as pd\n",
        "%matplotlib inline\n",
        "\n",
        "# for dataset\n",
        "from sklearn.datasets import load_breast_cancer\n",
        "\n",
        "# for splitting training and testing part\n",
        "from sklearn.model_selection import train_test_split\n",
        "\n",
        "# for decompositions\n",
        "from sklearn import decomposition\n",
        "from sklearn import svm"
      ],
      "execution_count": 1,
      "outputs": []
    },
    {
      "cell_type": "code",
      "metadata": {
        "colab": {
          "base_uri": "https://localhost:8080/"
        },
        "id": "QlhU_Rs6hAAA",
        "outputId": "22fdf857-2ad5-4907-b11b-a839733587d8"
      },
      "source": [
        "main_data=load_breast_cancer()\n",
        "main_data.keys()"
      ],
      "execution_count": 2,
      "outputs": [
        {
          "output_type": "execute_result",
          "data": {
            "text/plain": [
              "dict_keys(['data', 'target', 'target_names', 'DESCR', 'feature_names', 'filename'])"
            ]
          },
          "metadata": {},
          "execution_count": 2
        }
      ]
    },
    {
      "cell_type": "code",
      "metadata": {
        "colab": {
          "base_uri": "https://localhost:8080/"
        },
        "id": "z4hS6A84hMnm",
        "outputId": "b58c9ac0-2ce4-4473-8129-4aa426ba06be"
      },
      "source": [
        "X_train, X_test, y_train, y_test = train_test_split(main_data.data, main_data.target, random_state = 24, test_size = 0.2)\n",
        "print(X_train.shape, X_test.shape)"
      ],
      "execution_count": 3,
      "outputs": [
        {
          "output_type": "stream",
          "name": "stdout",
          "text": [
            "(455, 30) (114, 30)\n"
          ]
        }
      ]
    },
    {
      "cell_type": "code",
      "metadata": {
        "colab": {
          "base_uri": "https://localhost:8080/"
        },
        "id": "6DJ536nMhTJI",
        "outputId": "2c26b890-8e5b-49ae-c04d-a0a23e71390f"
      },
      "source": [
        "pca = decomposition.PCA(n_components=2,whiten=True)\n",
        "pca.fit(X_train)"
      ],
      "execution_count": 4,
      "outputs": [
        {
          "output_type": "execute_result",
          "data": {
            "text/plain": [
              "PCA(copy=True, iterated_power='auto', n_components=2, random_state=None,\n",
              "    svd_solver='auto', tol=0.0, whiten=True)"
            ]
          },
          "metadata": {},
          "execution_count": 4
        }
      ]
    },
    {
      "cell_type": "code",
      "metadata": {
        "colab": {
          "base_uri": "https://localhost:8080/"
        },
        "id": "N8v1up3Oh2W2",
        "outputId": "1ce82d65-3ce7-4ba1-f775-74b4ddd377cb"
      },
      "source": [
        "print(pca.components_.shape)"
      ],
      "execution_count": 5,
      "outputs": [
        {
          "output_type": "stream",
          "name": "stdout",
          "text": [
            "(2, 30)\n"
          ]
        }
      ]
    },
    {
      "cell_type": "code",
      "metadata": {
        "colab": {
          "base_uri": "https://localhost:8080/"
        },
        "id": "Z-IQ69S9h41I",
        "outputId": "baef2a96-b3b6-4313-c837-1e2d86d8990f"
      },
      "source": [
        "X_train_pca = pca.transform(X_train)\n",
        "X_test_pca = pca.transform(X_test)\n",
        "print(X_train_pca.shape)"
      ],
      "execution_count": 6,
      "outputs": [
        {
          "output_type": "stream",
          "name": "stdout",
          "text": [
            "(455, 2)\n"
          ]
        }
      ]
    },
    {
      "cell_type": "code",
      "metadata": {
        "colab": {
          "base_uri": "https://localhost:8080/"
        },
        "id": "FMja0rhkh7yQ",
        "outputId": "46a11fb4-63b9-41d2-ff9d-9073838e7c36"
      },
      "source": [
        "print(X_test_pca.shape)"
      ],
      "execution_count": 7,
      "outputs": [
        {
          "output_type": "stream",
          "name": "stdout",
          "text": [
            "(114, 2)\n"
          ]
        }
      ]
    },
    {
      "cell_type": "code",
      "metadata": {
        "colab": {
          "base_uri": "https://localhost:8080/"
        },
        "id": "NMQTDNZah_VJ",
        "outputId": "73cfe23d-5e7f-4f12-fdfd-3fa547a783c7"
      },
      "source": [
        "from sklearn import svm\n",
        "clf = svm.SVC(C=5., gamma=0.001)\n",
        "clf.fit(X_train_pca, y_train)"
      ],
      "execution_count": 8,
      "outputs": [
        {
          "output_type": "execute_result",
          "data": {
            "text/plain": [
              "SVC(C=5.0, break_ties=False, cache_size=200, class_weight=None, coef0=0.0,\n",
              "    decision_function_shape='ovr', degree=3, gamma=0.001, kernel='rbf',\n",
              "    max_iter=-1, probability=False, random_state=None, shrinking=True,\n",
              "    tol=0.001, verbose=False)"
            ]
          },
          "metadata": {},
          "execution_count": 8
        }
      ]
    },
    {
      "cell_type": "code",
      "metadata": {
        "colab": {
          "base_uri": "https://localhost:8080/"
        },
        "id": "QeKyW22siBr5",
        "outputId": "41e96a2b-9eb3-4779-fdc6-ad86acbca333"
      },
      "source": [
        "from sklearn import metrics\n",
        "y_pred = clf.predict(X_test_pca)\n",
        "print(metrics.classification_report(y_test, y_pred))"
      ],
      "execution_count": 9,
      "outputs": [
        {
          "output_type": "stream",
          "name": "stdout",
          "text": [
            "              precision    recall  f1-score   support\n",
            "\n",
            "           0       0.96      0.66      0.78        41\n",
            "           1       0.84      0.99      0.91        73\n",
            "\n",
            "    accuracy                           0.87       114\n",
            "   macro avg       0.90      0.82      0.84       114\n",
            "weighted avg       0.88      0.87      0.86       114\n",
            "\n"
          ]
        }
      ]
    }
  ]
}